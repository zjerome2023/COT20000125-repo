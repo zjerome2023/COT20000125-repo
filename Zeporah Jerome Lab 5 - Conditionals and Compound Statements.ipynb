{
 "cells": [
  {
   "cell_type": "markdown",
   "id": "9f0a95fe-a344-4f0b-9ebe-fd0571117f89",
   "metadata": {},
   "source": [
    "# 1. Logical functions and laws using conditionals\n",
    "TASK: Read and modify code acordingly"
   ]
  },
  {
   "cell_type": "code",
   "execution_count": 5,
   "id": "ec4b40b3-b0e6-4c7c-bfa3-4562cdbaf28a",
   "metadata": {},
   "outputs": [
    {
     "name": "stdout",
     "output_type": "stream",
     "text": [
      "p \tq \t¬p \tp v q \t(p ∧ q) → r \tp → q \t(p → r) ∧ (p → q)\n",
      "----------------------------------------------------------------------------------------------------\n",
      "True \tTrue \tFalse \tTrue \tTrue \tTrue \tTrue\n",
      "True \tTrue \tFalse \tTrue \tTrue \tTrue \tTrue\n",
      "True \tFalse \tFalse \tTrue \tTrue \tTrue \tTrue\n",
      "True \tFalse \tFalse \tTrue \tTrue \tTrue \tTrue\n",
      "False \tTrue \tTrue \tTrue \tTrue \tTrue \tTrue\n",
      "False \tTrue \tTrue \tTrue \tTrue \tTrue \tFalse\n",
      "False \tFalse \tTrue \tFalse \tTrue \tFalse \tFalse\n",
      "False \tFalse \tTrue \tFalse \tFalse \tFalse \tFalse\n"
     ]
    }
   ],
   "source": [
    "# Logical functions\n",
    "def implies(p, q):\n",
    "    return p or q\n",
    "\n",
    "def contrapositive(p, q):\n",
    "    return implies(not q, not p)\n",
    "\n",
    "def converse(p, q):\n",
    "    return implies(q, p)\n",
    "\n",
    "def inverse(p, q):\n",
    "    return implies(not p, not q)\n",
    "\n",
    "def biconditional(p, q):\n",
    "    return not p == q\n",
    "\n",
    "def xor(p,q):\n",
    "    return (not p or q) and ( (p and q))\n",
    "\n",
    "# Logical equivalences\n",
    "def distributive(p, q, r):\n",
    "    return implies(p or q, r) == (implies(p, r) and implies(q, r))\n",
    "\n",
    "def exportation(p, q, r):\n",
    "    return implies(p and q, r) == implies(p, implies(q, r))\n",
    "\n",
    "def reduction(p, q):\n",
    "    return not implies(p, q) == (p and not q)\n",
    "\n",
    "def equivalence(p,q):\n",
    "    return biconditional(p,q) == (not xor(p,q))\n",
    "\n",
    "def truthTable():\n",
    "    # Columns\n",
    "    # TASK: Modify each column as required for your compound statement (p, q, r, p ∨ q, (p ∧ q) → r, p → q, (p → r) ∧ (q → r))\n",
    "    \n",
    "    col1 = 'p'\n",
    "    col2 = 'q'\n",
    "    col3 = '¬p'\n",
    "    col4 = 'p v q'\n",
    "    col5 = '(p ∧ q) → r'\n",
    "    col6 = 'p → q'\n",
    "    col7 = '(p → r) ∧ (p → q)'\n",
    "    print(f'{col1} \\t{col2} \\t{col3} \\t{col4} \\t{col5} \\t{col6} \\t{col7}')\n",
    "    print('-'*100)\n",
    "    \n",
    "    # Iteration of proposition values\n",
    "    for p in [True, False]:\n",
    "        for q in [True, False]:\n",
    "            for r in [True, False]:\n",
    "                # Columns\n",
    "                # TASK: Modify each column as required for your compound statement\n",
    "                col1 = p\n",
    "                col2 = q\n",
    "                col3 = not p\n",
    "                col4 = p or q\n",
    "                col5 = implies((p or q), r)\n",
    "                col6 = implies(p,q)\n",
    "                col7 = implies(p,r) and implies(p,q)\n",
    "                print(f'{col1} \\t{col2} \\t{col3} \\t{col4} \\t{col5} \\t{col6} \\t{col7}')\n",
    "\n",
    "truthTable()"
   ]
  },
  {
   "cell_type": "markdown",
   "id": "e0179427-dd39-4375-9e1e-7910a96170be",
   "metadata": {},
   "source": [
    "## 2. Testing each logic function"
   ]
  },
  {
   "cell_type": "code",
   "execution_count": 17,
   "id": "33e65344-3489-4cfb-9195-4600b64667e6",
   "metadata": {},
   "outputs": [
    {
     "name": "stdout",
     "output_type": "stream",
     "text": [
      "False\n",
      "True\n",
      "(False, False)\n",
      "False\n"
     ]
    }
   ],
   "source": [
    "# Task: Modify values for p and q\n",
    "#       and try each logical function and logical equivalence\n",
    "# Example:\n",
    "p = True\n",
    "q = False\n",
    "r = True\n",
    "\n",
    "# Example:\n",
    "# print( (not xor(p,q)) )\n",
    "#print((not q, not p))\n",
    "#print( conditional(p,q) )\n",
    "\n",
    "#print (not p or q) and ( (p and q))\n",
    "print ((p or q, r) == ((p, r) and (q, r)))\n",
    "print ((not xor(p,q)))\n",
    "q = True\n",
    "print((not q, not p))\n",
    "print ( biconditional(p,q))"
   ]
  },
  {
   "cell_type": "markdown",
   "id": "cc872434-fec1-4081-baba-6f3254733c46",
   "metadata": {},
   "source": [
    "## 3. Compound statements using conditionals in English"
   ]
  },
  {
   "cell_type": "code",
   "execution_count": 21,
   "id": "eda345e0-9dc5-485a-baf8-a1e5a60385b0",
   "metadata": {},
   "outputs": [
    {
     "name": "stdout",
     "output_type": "stream",
     "text": [
      "Original Proposition:  If I'm tired, then I go to sleep.\n",
      "Inverse:  If I'm not tired, then I don't go to sleep.\n",
      "Converse:  If I go to sleep, then I'm tired.\n",
      "Contrapositive:  If I don't go to sleep, then I'm not tired.\n"
     ]
    }
   ],
   "source": [
    "def proposition_to_string(p, q):\n",
    "    prop = f\"If {p}, then {q}.\"   \n",
    "    return prop\n",
    "\n",
    "# TASK: Replace p and q for another compound statement\n",
    "def main():\n",
    "    p = \"I'm tired\"\n",
    "    q = \"I go to sleep\"\n",
    "\n",
    "    print(\"Original Proposition: \", proposition_to_string(p, q))\n",
    "\n",
    "    p_inv = \"I'm not tired\"\n",
    "    q_inv = \"I don't go to sleep\"\n",
    "\n",
    "    print(\"Inverse: \", proposition_to_string(p_inv, q_inv))\n",
    "    print(\"Converse: \", proposition_to_string(q, p))\n",
    "    print(\"Contrapositive: \", proposition_to_string(q_inv, p_inv))\n",
    "\n",
    "main()"
   ]
  },
  {
   "cell_type": "code",
   "execution_count": null,
   "id": "815290b5-d884-4f29-90e2-6db63f9bbcbb",
   "metadata": {},
   "outputs": [],
   "source": []
  }
 ],
 "metadata": {
  "kernelspec": {
   "display_name": "anaconda-2024.02-py310",
   "language": "python",
   "name": "conda-env-anaconda-2024.02-py310-py"
  },
  "language_info": {
   "codemirror_mode": {
    "name": "ipython",
    "version": 3
   },
   "file_extension": ".py",
   "mimetype": "text/x-python",
   "name": "python",
   "nbconvert_exporter": "python",
   "pygments_lexer": "ipython3",
   "version": "3.10.14"
  }
 },
 "nbformat": 4,
 "nbformat_minor": 5
}
